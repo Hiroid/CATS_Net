{
 "cells": [
  {
   "cell_type": "markdown",
   "metadata": {},
   "source": [
    "# 1. INIT - Import packages"
   ]
  },
  {
   "cell_type": "code",
   "execution_count": null,
   "metadata": {},
   "outputs": [],
   "source": [
    "import torch\n",
    "import os\n",
    "import sys\n",
    "from pathlib import Path\n",
    "\n",
    "file_dir = Path().absolute()\n",
    "workspace_dir = os.path.dirname(file_dir)\n",
    "sys.path.append(workspace_dir)\n",
    "os.environ['CUDA_VISIBLE_DEVICES'] = '5'\n",
    "print('Pytorch version :', torch.__version__)\n",
    "print('CUDA version\\t:', torch.version.cuda)\n",
    "print('GPU\\t\\t:',torch.cuda.get_device_name())"
   ]
  },
  {
   "cell_type": "code",
   "execution_count": 2,
   "metadata": {},
   "outputs": [],
   "source": [
    "from collections import OrderedDict\n",
    "from classes import IMAGENET2012_CLASSES\n",
    "import torchvision\n",
    "from A01_ImageNet import model, utils, data\n",
    "from tqdm import tqdm\n",
    "from torch.utils.data import DataLoader, Dataset\n",
    "import scipy.io\n",
    "import numpy as np\n",
    "import seaborn as sns\n",
    "import matplotlib.pyplot as plt\n",
    "import pandas as pd\n",
    "import matplotlib.patches as mpatches\n",
    "from torch import nn\n",
    "from scipy.spatial.distance import jensenshannon"
   ]
  },
  {
   "cell_type": "markdown",
   "metadata": {},
   "source": [
    "# 2. INIT - Define func"
   ]
  },
  {
   "cell_type": "code",
   "execution_count": 3,
   "metadata": {},
   "outputs": [],
   "source": [
    "def get_test_stat(net, dataloader, use_feature = True, concept = None):\n",
    "    Imagenet1k_test_stat = torch.zeros([1000])\n",
    "    for X, y in dataloader:\n",
    "        X = X.to('cuda')\n",
    "        if concept != None: \n",
    "            symbol_batch = concept.repeat([X.shape[0], 1]).to('cuda')\n",
    "        if use_feature:\n",
    "            if concept != None:\n",
    "                y_hat = net.feature_forward(X, symbol_batch)\n",
    "            else:\n",
    "                y_hat = net.feature_forward(X)\n",
    "        else:\n",
    "            if concept != None:\n",
    "                y_hat = net(X, symbol_batch)\n",
    "            else:\n",
    "                y_hat = net(X)\n",
    "        y_hat = y_hat.to('cpu')\n",
    "        mask = y_hat[:, 0] < y_hat[:, 1]\n",
    "        for j in range(len(y[mask])):\n",
    "            Imagenet1k_test_stat[y[mask][j]] += 1\n",
    "    return Imagenet1k_test_stat"
   ]
  },
  {
   "cell_type": "code",
   "execution_count": 4,
   "metadata": {},
   "outputs": [],
   "source": [
    "def get_non_zero_values(input_tensor):\n",
    "    return input_tensor[input_tensor != 0.0]"
   ]
  },
  {
   "cell_type": "code",
   "execution_count": 5,
   "metadata": {},
   "outputs": [],
   "source": [
    "def get_entropy(normalized_prob, eps = None):\n",
    "    if eps == None:\n",
    "        non_zero_normalized_prob = get_non_zero_values(normalized_prob)\n",
    "    else:\n",
    "        non_zero_normalized_prob = torch.clamp(normalized_prob, min = eps)\n",
    "    return -torch.sum(non_zero_normalized_prob * torch.log2(non_zero_normalized_prob))\n",
    "    "
   ]
  },
  {
   "cell_type": "markdown",
   "metadata": {},
   "source": [
    "# 3. EXECUTIONS - trained fe/cdp/ts, random symbol as entropy\n",
    "data for Fig 2f blue density bar"
   ]
  },
  {
   "cell_type": "code",
   "execution_count": null,
   "metadata": {},
   "outputs": [],
   "source": [
    "net_global_id = 50\n",
    "net = model.sea_net(symbol_size = 20, num_classes = 1000, fix_fe = True, fe_type = 'resnet50')\n",
    "net.load_state_dict(torch.load(f'../Results/param/imagenet1k_ss20_fixfe_trail{net_global_id}.pt'), strict=False)\n",
    "net.to('cuda')\n",
    "net.eval()\n",
    "\n",
    "imagenet1k_test_FeatureDataset = data.FeatureDataset(\"../Results/FeatureData/ImageNet1k_test_embeddings.pt\", \"../Results/FeatureData/ImageNet1k_test_indices.pt\")\n",
    "imagenet1k_test_FeatureLoader = DataLoader(\n",
    "    imagenet1k_test_FeatureDataset, \n",
    "    batch_size = 512, \n",
    "    num_workers = 8, \n",
    "    shuffle = False\n",
    ")\n",
    "n_repeats = 1000\n",
    "\n",
    "Imagenet1k_test_stat_trainedConfig = torch.zeros([n_repeats, 1000])\n",
    "\n",
    "for i in range(n_repeats):\n",
    "    print(f\"Repeating random concept {i}\")\n",
    "    concept_i = torch.rand(net.symbol_set[0].shape)\n",
    "    Imagenet1k_test_stat_trainedConfig.data[i] = get_test_stat(net, imagenet1k_test_FeatureLoader, use_feature = True, concept = concept_i)\n",
    "    print(f'Counting number category: {Imagenet1k_test_stat_trainedConfig.data[i].sum()}')\n",
    "\n",
    "\n",
    "Imagenet1k_test_stat_trainedConfig_T = Imagenet1k_test_stat_trainedConfig.T\n",
    "torch.save(Imagenet1k_test_stat_trainedConfig, f\"../Results/entropy_stat/Imagenet1k_test_stat_seanet{net_global_id}_trainedConfig.pt\")\n"
   ]
  },
  {
   "cell_type": "markdown",
   "metadata": {},
   "source": [
    "# 4. EXECUTIONS - random ts_net param as entropy\n",
    "data for Fig 2f purple density bar"
   ]
  },
  {
   "cell_type": "code",
   "execution_count": null,
   "metadata": {},
   "outputs": [],
   "source": [
    "imagenet1k_test_FeatureDataset = data.FeatureDataset(\"../Results/FeatureData/ImageNet1k_test_embeddings.pt\", \"../Results/FeatureData/ImageNet1k_test_indices.pt\")\n",
    "imagenet1k_test_FeatureLoader = DataLoader(\n",
    "    imagenet1k_test_FeatureDataset, \n",
    "    batch_size = 512, \n",
    "    num_workers = 4, \n",
    "    shuffle = False\n",
    ")\n",
    "n_repeats = 1000\n",
    "\n",
    "Imagenet1k_test_stat_tsnet_randomConfig = torch.zeros([n_repeats, 1000])\n",
    "\n",
    "for i in range(n_repeats):\n",
    "    net = model.ts_net(fix_fe = True, fe_type = 'resnet50')\n",
    "    net.to('cuda')\n",
    "    net.eval()\n",
    "\n",
    "    print(f\"Repeating {i}\")\n",
    "    Imagenet1k_test_stat_tsnet_randomConfig.data[i] = get_test_stat(net, imagenet1k_test_FeatureLoader, use_feature = True)\n",
    "    print(f'Counting number category: {Imagenet1k_test_stat_tsnet_randomConfig.data[i].sum()}')\n",
    "\n",
    "torch.save(Imagenet1k_test_stat_tsnet_randomConfig, \"../Results/entropy_stat/Imagenet1k_test_stat_tsnet_randomConfig.pt\")"
   ]
  }
 ],
 "metadata": {
  "kernelspec": {
   "display_name": "lxguo_base",
   "language": "python",
   "name": "python3"
  },
  "language_info": {
   "codemirror_mode": {
    "name": "ipython",
    "version": 3
   },
   "file_extension": ".py",
   "mimetype": "text/x-python",
   "name": "python",
   "nbconvert_exporter": "python",
   "pygments_lexer": "ipython3",
   "version": "3.9.16"
  }
 },
 "nbformat": 4,
 "nbformat_minor": 2
}
