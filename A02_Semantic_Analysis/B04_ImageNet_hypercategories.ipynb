{
 "cells": [
  {
   "cell_type": "markdown",
   "metadata": {},
   "source": [
    "# 1. INIT - Import packages"
   ]
  },
  {
   "cell_type": "code",
   "execution_count": 1,
   "metadata": {},
   "outputs": [
    {
     "name": "stdout",
     "output_type": "stream",
     "text": [
      "Project Root: /workspace\n",
      "Current Working Directory: /workspace/A02_Semantic_Analysis\n",
      "Pytorch version : 2.0.1+cu117\n",
      "CUDA version\t: 11.7\n",
      "GPU\t\t: NVIDIA A40\n"
     ]
    }
   ],
   "source": [
    "import torch\n",
    "import os\n",
    "import sys\n",
    "from pathlib import Path\n",
    "\n",
    "# --- Start of the robust path modification ---\n",
    "try:\n",
    "    # This variable is defined in VS Code notebooks\n",
    "    current_file_path = Path(__vsc_ipynb_file__)\n",
    "except NameError:\n",
    "    # Fallback for other environments or .py scripts\n",
    "    current_file_path = Path.cwd()\n",
    "\n",
    "# Traverse up to find the project root\n",
    "# We assume the project root contains a known directory, e.g., 'Deps' or a marker file like '.git'\n",
    "project_root = current_file_path\n",
    "while not (project_root / 'Deps').exists() and project_root.parent != project_root:\n",
    "    project_root = project_root.parent\n",
    "\n",
    "# Add project root to the Python path if it's not already there\n",
    "if str(project_root) not in sys.path:\n",
    "    sys.path.append(str(project_root))\n",
    "\n",
    "print(f\"Project Root: {project_root}\")\n",
    "print(f\"Current Working Directory: {os.getcwd()}\")\n",
    "\n",
    "import nltk\n",
    "from nltk.corpus import wordnet as wn\n",
    "from collections import Counter\n",
    "from Deps.CustomFuctions.classes import IMAGENET2012_CLASSES\n",
    "\n",
    "os.environ['CUDA_VISIBLE_DEVICES'] = '0'\n",
    "print('Pytorch version :', torch.__version__)\n",
    "print('CUDA version\\t:', torch.version.cuda)\n",
    "print('GPU\\t\\t:',torch.cuda.get_device_name())"
   ]
  },
  {
   "cell_type": "markdown",
   "metadata": {},
   "source": [
    "# 2. INIT - Downloading the wordnet corpora"
   ]
  },
  {
   "cell_type": "code",
   "execution_count": 4,
   "metadata": {},
   "outputs": [
    {
     "name": "stderr",
     "output_type": "stream",
     "text": [
      "[nltk_data] Downloading package wordnet to /workspace/Deps...\n",
      "[nltk_data]   Package wordnet is already up-to-date!\n"
     ]
    },
    {
     "name": "stdout",
     "output_type": "stream",
     "text": [
      "Adding custom NLTK data path: /workspace/Deps\n",
      "\n",
      "Successfully imported and used wordnet!\n",
      "Synsets for 'computer': [Synset('computer.n.01'), Synset('calculator.n.01')]\n"
     ]
    }
   ],
   "source": [
    "nltk.download('wordnet', download_dir= os.path.join(project_root, \"Deps\"))\n",
    "# --- NLTK Path Configuration ---\n",
    "# 1. Define the custom path where you downloaded the data\n",
    "custom_nltk_data_path = os.path.join(project_root, \"Deps\")\n",
    "\n",
    "# 2. Check if this path is already in NLTK's search paths\n",
    "if custom_nltk_data_path not in nltk.data.path:\n",
    "    # 3. If not, add it. Using insert(0, ...) gives it the highest priority.\n",
    "    print(f\"Adding custom NLTK data path: {custom_nltk_data_path}\")\n",
    "    nltk.data.path.insert(0, custom_nltk_data_path)\n",
    "else:\n",
    "    print(\"Custom NLTK data path already configured.\")\n",
    "\n",
    "# Now, NLTK knows to look inside your '/workspace/Deps' folder.\n",
    "# This will work without any errors.\n",
    "try:\n",
    "    from nltk.corpus import wordnet\n",
    "    syns = wordnet.synsets(\"computer\")\n",
    "    print(\"\\nSuccessfully imported and used wordnet!\")\n",
    "    print(f\"Synsets for 'computer': {syns[:5]}\")\n",
    "except LookupError as e:\n",
    "    print(f\"\\nSomething went wrong. Here is NLTK's current search path:\")\n",
    "    print(nltk.data.path)"
   ]
  },
  {
   "cell_type": "markdown",
   "metadata": {},
   "source": [
    "# 3. EXECUTIONS - wordnet analysis for hypercategories"
   ]
  },
  {
   "cell_type": "code",
   "execution_count": 6,
   "metadata": {},
   "outputs": [
    {
     "name": "stdout",
     "output_type": "stream",
     "text": [
      "instrumentality: 350\n",
      "mammal: 218\n",
      "others_animal: 180\n",
      "others_artifact: 172\n",
      "others_entity: 80\n"
     ]
    }
   ],
   "source": [
    "class_labels = []\n",
    "for class_code in IMAGENET2012_CLASSES.keys():\n",
    "    class_labels.append(class_code)\n",
    "\n",
    "# imagenet1k_hypercategory_v2\n",
    "top_categories = {\n",
    "    'mammal': 'mammal.n.01',\n",
    "    'others_animal': 'animal.n.01',\n",
    "    'instrumentality': 'instrumentality.n.03',\n",
    "    'others_artifact': 'artifact.n.01',\n",
    "}\n",
    "\n",
    "def get_ordered_hypernyms(synset):\n",
    "    hypernyms = []\n",
    "    current = synset\n",
    "    while current.hypernyms():\n",
    "        current = current.hypernyms()[0]\n",
    "        hypernyms.append(current)\n",
    "    return hypernyms\n",
    "\n",
    "class_categories = {}\n",
    "all_synset_names = []\n",
    "\n",
    "for synset_id in class_labels:\n",
    "    synset = wn.synset_from_pos_and_offset('n', int(synset_id[1:]))\n",
    "    ordered_hypernyms = get_ordered_hypernyms(synset)\n",
    "    ordered_hypernym_names = [hypernym.name() for hypernym in ordered_hypernyms]\n",
    "    # print(f\"Synset: {synset.name()}, hypernyms: {ordered_hypernym_names}\")\n",
    "    \n",
    "    assigned_category = 'others_entity'\n",
    "    for category, top_synset_name in top_categories.items():\n",
    "        if assigned_category != 'others_entity': break\n",
    "        for synset_name in ordered_hypernym_names:\n",
    "            if synset_name == top_synset_name:\n",
    "                assigned_category = category\n",
    "                break\n",
    "    \n",
    "    class_categories[synset_id] = assigned_category\n",
    "    all_synset_names += ordered_hypernym_names\n",
    "\n",
    "value_counts = Counter(class_categories.values())\n",
    "sorted_value_counts = sorted(value_counts.items())\n",
    "for value, count in sorted_value_counts:\n",
    "    print(f\"{value}: {count}\")\n",
    "\n",
    "torch.save(class_categories, os.path.join(project_root, \"Results\", \"hypercategory\", \"imagenet1k_hypercategory_v2.pt\"))\n"
   ]
  }
 ],
 "metadata": {
  "kernelspec": {
   "display_name": ".venv",
   "language": "python",
   "name": "python3"
  },
  "language_info": {
   "codemirror_mode": {
    "name": "ipython",
    "version": 3
   },
   "file_extension": ".py",
   "mimetype": "text/x-python",
   "name": "python",
   "nbconvert_exporter": "python",
   "pygments_lexer": "ipython3",
   "version": "3.9.16"
  }
 },
 "nbformat": 4,
 "nbformat_minor": 2
}
