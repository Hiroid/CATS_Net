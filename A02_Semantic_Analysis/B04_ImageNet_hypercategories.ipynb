{
 "cells": [
  {
   "cell_type": "markdown",
   "metadata": {},
   "source": [
    "# 1. INIT - Import packages"
   ]
  },
  {
   "cell_type": "code",
   "execution_count": 1,
   "metadata": {},
   "outputs": [
    {
     "name": "stdout",
     "output_type": "stream",
     "text": [
      "Pytorch version : 2.0.1\n",
      "CUDA version\t: 11.7\n",
      "GPU\t\t: NVIDIA A40\n"
     ]
    }
   ],
   "source": [
    "import torch\n",
    "import os\n",
    "import sys\n",
    "from pathlib import Path\n",
    "\n",
    "file_dir = Path().absolute()\n",
    "workspace_dir = os.path.dirname(file_dir)\n",
    "sys.path.append(workspace_dir)\n",
    "\n",
    "import nltk\n",
    "from nltk.corpus import wordnet as wn\n",
    "from collections import Counter\n",
    "from classes import IMAGENET2012_CLASSES\n",
    "\n",
    "os.environ['CUDA_VISIBLE_DEVICES'] = '0'\n",
    "print('Pytorch version :', torch.__version__)\n",
    "print('CUDA version\\t:', torch.version.cuda)\n",
    "print('GPU\\t\\t:',torch.cuda.get_device_name())"
   ]
  },
  {
   "cell_type": "markdown",
   "metadata": {},
   "source": [
    "# 2. INIT - Downloading the wordnet corpora"
   ]
  },
  {
   "cell_type": "code",
   "execution_count": 2,
   "metadata": {},
   "outputs": [
    {
     "name": "stderr",
     "output_type": "stream",
     "text": [
      "[nltk_data] Downloading package wordnet to ../Deps/...\n"
     ]
    },
    {
     "data": {
      "text/plain": [
       "True"
      ]
     },
     "execution_count": 2,
     "metadata": {},
     "output_type": "execute_result"
    }
   ],
   "source": [
    "nltk.download('wordnet', download_dir='../Deps/')"
   ]
  },
  {
   "cell_type": "markdown",
   "metadata": {},
   "source": [
    "# 3. EXECUTIONS - wordnet analysis for hypercategories"
   ]
  },
  {
   "cell_type": "code",
   "execution_count": 3,
   "metadata": {},
   "outputs": [
    {
     "name": "stdout",
     "output_type": "stream",
     "text": [
      "instrumentality: 350\n",
      "mammal: 218\n",
      "others_animal: 180\n",
      "others_artifact: 172\n",
      "others_entity: 80\n"
     ]
    }
   ],
   "source": [
    "class_labels = []\n",
    "for class_code in IMAGENET2012_CLASSES.keys():\n",
    "    class_labels.append(class_code)\n",
    "\n",
    "# imagenet1k_hypercategory_v2\n",
    "top_categories = {\n",
    "    'mammal': 'mammal.n.01',\n",
    "    'others_animal': 'animal.n.01',\n",
    "    'instrumentality': 'instrumentality.n.03',\n",
    "    'others_artifact': 'artifact.n.01',\n",
    "}\n",
    "\n",
    "def get_ordered_hypernyms(synset):\n",
    "    hypernyms = []\n",
    "    current = synset\n",
    "    while current.hypernyms():\n",
    "        current = current.hypernyms()[0]\n",
    "        hypernyms.append(current)\n",
    "    return hypernyms\n",
    "\n",
    "class_categories = {}\n",
    "all_synset_names = []\n",
    "\n",
    "for synset_id in class_labels:\n",
    "    synset = wn.synset_from_pos_and_offset('n', int(synset_id[1:]))\n",
    "    ordered_hypernyms = get_ordered_hypernyms(synset)\n",
    "    ordered_hypernym_names = [hypernym.name() for hypernym in ordered_hypernyms]\n",
    "    # print(f\"Synset: {synset.name()}, hypernyms: {ordered_hypernym_names}\")\n",
    "    \n",
    "    assigned_category = 'others_entity'\n",
    "    for category, top_synset_name in top_categories.items():\n",
    "        if assigned_category != 'others_entity': break\n",
    "        for synset_name in ordered_hypernym_names:\n",
    "            if synset_name == top_synset_name:\n",
    "                assigned_category = category\n",
    "                break\n",
    "    \n",
    "    class_categories[synset_id] = assigned_category\n",
    "    all_synset_names += ordered_hypernym_names\n",
    "\n",
    "value_counts = Counter(class_categories.values())\n",
    "sorted_value_counts = sorted(value_counts.items())\n",
    "for value, count in sorted_value_counts:\n",
    "    print(f\"{value}: {count}\")\n",
    "\n",
    "torch.save(class_categories, \"../Results/hypercategory/imagenet1k_hypercategory_v2.pt\")"
   ]
  }
 ],
 "metadata": {
  "kernelspec": {
   "display_name": "lxguo_base",
   "language": "python",
   "name": "python3"
  },
  "language_info": {
   "codemirror_mode": {
    "name": "ipython",
    "version": 3
   },
   "file_extension": ".py",
   "mimetype": "text/x-python",
   "name": "python",
   "nbconvert_exporter": "python",
   "pygments_lexer": "ipython3",
   "version": "3.9.16"
  }
 },
 "nbformat": 4,
 "nbformat_minor": 2
}
